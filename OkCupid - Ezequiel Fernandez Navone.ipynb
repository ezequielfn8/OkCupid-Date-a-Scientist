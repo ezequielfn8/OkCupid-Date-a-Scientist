{
 "cells": [
  {
   "cell_type": "markdown",
   "metadata": {},
   "source": [
    "# OkCupid: Date-a-Scientist\n",
    "\n",
    "#### A Machine Learning Portfolio Project (Data provided by CodeCademy)"
   ]
  },
  {
   "cell_type": "markdown",
   "metadata": {},
   "source": [
    "## Introduction\n",
    "\n",
    "In recent years, there has been a massive rise in the usage of dating apps to find love. Many of these apps use sophisticated data science techniques to recommend possible matches to users and to optimize the user experience. These apps give us access to a wealth of information that we’ve never had before about how different people experience romance.\n",
    "\n",
    "In this portfolio project, I analyzed some data from OkCupid, an app that focuses on using multiple choice and short answers to match users."
   ]
  },
  {
   "cell_type": "markdown",
   "metadata": {},
   "source": [
    "## Scoping\n",
    "\n",
    "For this project, the scope consisted of four steps: project goals, actions and data, analysis, and the evaluation of each step to build conclusions and to communicate findings in a more effective way.\n",
    "\n",
    "#### 1. Project goals\n",
    "The goal for this project was to perform Data Analysis with Machine Learning techniques on a dataset of OkCupid provided by CodeCademy. I tried to filled null values on key columns with predictive algorithms using Python library Scikit-Learn, and then I moved on to making predictions about the status of potential new users.\n",
    "\n",
    "#### 2. Actions and Data\n",
    "The actions that were made to work toward the goal of the project were the analysis and transformation of the dataset provided by CodeCademy.com, called \"Profiles.csv\" and Species_info.csv, to get even insightful information and elaborate Machine Learning models.\n",
    "\n",
    "#### 3. Analysis\n",
    "The analysis was conducted on these main questions:\n",
    "\n",
    "- Can I predict the null values for important features of the dataset like a person's diet or religion?\n",
    "- Is there an efficient way to predict the profile status (availability) for potential new users?\n",
    "- Am I able to predict if these people logged in in the last 7 days without looking at that information?\n",
    "\n",
    "#### 4. Evaluation\n",
    "Finally, it's a good idea to revisit the goals and check if the output of the analysis corresponds to the questions first set to be answered (in the goals section). This section also reflects on what has been learned through the process, and if any of the questions were unable to be answered. This could also include limitations or if any of the analysis could have been done using different methodologies."
   ]
  },
  {
   "cell_type": "markdown",
   "metadata": {},
   "source": [
    "## Import the Modules\n",
    "\n",
    "The first thing to do, was to import the Python Modules to be used in this project."
   ]
  },
  {
   "cell_type": "code",
   "execution_count": 1,
   "metadata": {},
   "outputs": [],
   "source": [
    "#To analyze the data\n",
    "import pandas as pd\n",
    "\n",
    "#To visualize it\n",
    "from matplotlib import pyplot as plt\n",
    "\n",
    "#To divide data into train and test splits\n",
    "from sklearn.model_selection import train_test_split\n",
    "\n",
    "#To preprocess the data\n",
    "from sklearn.preprocessing import StandardScaler, LabelEncoder\n",
    "\n",
    "#Machine Learning modules\n",
    "from sklearn.linear_model import LogisticRegression\n",
    "from sklearn.ensemble import RandomForestClassifier\n",
    "from sklearn.neighbors import KNeighborsClassifier\n",
    "from sklearn.naive_bayes import MultinomialNB\n",
    "\n",
    "#To evaluate the models\n",
    "from sklearn.metrics import classification_report"
   ]
  },
  {
   "cell_type": "markdown",
   "metadata": {},
   "source": [
    "## Load the Data\n",
    "\n",
    "To begin our work, I imported the dataset used to work with.\n",
    "\n",
    "profiles.csv dataset:\n",
    "\n",
    "This file contains information from the profiles registered at the Ok-Cupid dating app from mid-2016 to mid-2017.\n",
    "\n",
    "The columns are the following:\n",
    "\n",
    "- age: age of user\n",
    "- body_type: categorical variable of body type of user\n",
    "- diet: categorical variable of dietary information\n",
    "- drinks: categorical variable of alcohol consumption\n",
    "- drugs: categorical variable of drug usage\n",
    "- education: categorical variable of educational attainment\n",
    "- essays (1 to 9): titles of the essays each user wanted to upload\n",
    "- ethnicity: categorical variable of ethnic background\n",
    "- height: continuous variable of height of user\n",
    "- income: continuous variable of income of user\n",
    "- job: categorical variable of employment description\n",
    "- offspring: categorical variable of children status\n",
    "- orientation: categorical variable of sexual orientation\n",
    "- pets: categorical variable of pet preferences\n",
    "- religion: categorical variable of religious background\n",
    "- sex: categorical variable of gender\n",
    "- sign: categorical variable of astrological symbol\n",
    "- smokes: categorical variable of smoking consumption\n",
    "- speaks: categorical variable of language spoken\n",
    "- status: categorical variable of relationship status\n",
    "- last_online: date variable of last login to the app\n",
    "- location: categorical variable of the user location"
   ]
  },
  {
   "cell_type": "markdown",
   "metadata": {},
   "source": [
    "I ran the following code to check some of the rows of the table, and the information of the length the dataset as well as the null values."
   ]
  },
  {
   "cell_type": "code",
   "execution_count": 2,
   "metadata": {},
   "outputs": [
    {
     "data": {
      "text/html": [
       "<div>\n",
       "<style scoped>\n",
       "    .dataframe tbody tr th:only-of-type {\n",
       "        vertical-align: middle;\n",
       "    }\n",
       "\n",
       "    .dataframe tbody tr th {\n",
       "        vertical-align: top;\n",
       "    }\n",
       "\n",
       "    .dataframe thead th {\n",
       "        text-align: right;\n",
       "    }\n",
       "</style>\n",
       "<table border=\"1\" class=\"dataframe\">\n",
       "  <thead>\n",
       "    <tr style=\"text-align: right;\">\n",
       "      <th></th>\n",
       "      <th>age</th>\n",
       "      <th>body_type</th>\n",
       "      <th>diet</th>\n",
       "      <th>drinks</th>\n",
       "      <th>drugs</th>\n",
       "      <th>education</th>\n",
       "      <th>essay0</th>\n",
       "      <th>essay1</th>\n",
       "      <th>essay2</th>\n",
       "      <th>essay3</th>\n",
       "      <th>...</th>\n",
       "      <th>location</th>\n",
       "      <th>offspring</th>\n",
       "      <th>orientation</th>\n",
       "      <th>pets</th>\n",
       "      <th>religion</th>\n",
       "      <th>sex</th>\n",
       "      <th>sign</th>\n",
       "      <th>smokes</th>\n",
       "      <th>speaks</th>\n",
       "      <th>status</th>\n",
       "    </tr>\n",
       "  </thead>\n",
       "  <tbody>\n",
       "    <tr>\n",
       "      <th>0</th>\n",
       "      <td>22</td>\n",
       "      <td>a little extra</td>\n",
       "      <td>strictly anything</td>\n",
       "      <td>socially</td>\n",
       "      <td>never</td>\n",
       "      <td>working on college/university</td>\n",
       "      <td>about me:&lt;br /&gt;\\n&lt;br /&gt;\\ni would love to think...</td>\n",
       "      <td>currently working as an international agent fo...</td>\n",
       "      <td>making people laugh.&lt;br /&gt;\\nranting about a go...</td>\n",
       "      <td>the way i look. i am a six foot half asian, ha...</td>\n",
       "      <td>...</td>\n",
       "      <td>south san francisco, california</td>\n",
       "      <td>doesn&amp;rsquo;t have kids, but might want them</td>\n",
       "      <td>straight</td>\n",
       "      <td>likes dogs and likes cats</td>\n",
       "      <td>agnosticism and very serious about it</td>\n",
       "      <td>m</td>\n",
       "      <td>gemini</td>\n",
       "      <td>sometimes</td>\n",
       "      <td>english</td>\n",
       "      <td>single</td>\n",
       "    </tr>\n",
       "    <tr>\n",
       "      <th>1</th>\n",
       "      <td>35</td>\n",
       "      <td>average</td>\n",
       "      <td>mostly other</td>\n",
       "      <td>often</td>\n",
       "      <td>sometimes</td>\n",
       "      <td>working on space camp</td>\n",
       "      <td>i am a chef: this is what that means.&lt;br /&gt;\\n1...</td>\n",
       "      <td>dedicating everyday to being an unbelievable b...</td>\n",
       "      <td>being silly. having ridiculous amonts of fun w...</td>\n",
       "      <td>NaN</td>\n",
       "      <td>...</td>\n",
       "      <td>oakland, california</td>\n",
       "      <td>doesn&amp;rsquo;t have kids, but might want them</td>\n",
       "      <td>straight</td>\n",
       "      <td>likes dogs and likes cats</td>\n",
       "      <td>agnosticism but not too serious about it</td>\n",
       "      <td>m</td>\n",
       "      <td>cancer</td>\n",
       "      <td>no</td>\n",
       "      <td>english (fluently), spanish (poorly), french (...</td>\n",
       "      <td>single</td>\n",
       "    </tr>\n",
       "    <tr>\n",
       "      <th>2</th>\n",
       "      <td>38</td>\n",
       "      <td>thin</td>\n",
       "      <td>anything</td>\n",
       "      <td>socially</td>\n",
       "      <td>NaN</td>\n",
       "      <td>graduated from masters program</td>\n",
       "      <td>i'm not ashamed of much, but writing public te...</td>\n",
       "      <td>i make nerdy software for musicians, artists, ...</td>\n",
       "      <td>improvising in different contexts. alternating...</td>\n",
       "      <td>my large jaw and large glasses are the physica...</td>\n",
       "      <td>...</td>\n",
       "      <td>san francisco, california</td>\n",
       "      <td>NaN</td>\n",
       "      <td>straight</td>\n",
       "      <td>has cats</td>\n",
       "      <td>NaN</td>\n",
       "      <td>m</td>\n",
       "      <td>pisces but it doesn&amp;rsquo;t matter</td>\n",
       "      <td>no</td>\n",
       "      <td>english, french, c++</td>\n",
       "      <td>available</td>\n",
       "    </tr>\n",
       "    <tr>\n",
       "      <th>3</th>\n",
       "      <td>23</td>\n",
       "      <td>thin</td>\n",
       "      <td>vegetarian</td>\n",
       "      <td>socially</td>\n",
       "      <td>NaN</td>\n",
       "      <td>working on college/university</td>\n",
       "      <td>i work in a library and go to school. . .</td>\n",
       "      <td>reading things written by old dead people</td>\n",
       "      <td>playing synthesizers and organizing books acco...</td>\n",
       "      <td>socially awkward but i do my best</td>\n",
       "      <td>...</td>\n",
       "      <td>berkeley, california</td>\n",
       "      <td>doesn&amp;rsquo;t want kids</td>\n",
       "      <td>straight</td>\n",
       "      <td>likes cats</td>\n",
       "      <td>NaN</td>\n",
       "      <td>m</td>\n",
       "      <td>pisces</td>\n",
       "      <td>no</td>\n",
       "      <td>english, german (poorly)</td>\n",
       "      <td>single</td>\n",
       "    </tr>\n",
       "    <tr>\n",
       "      <th>4</th>\n",
       "      <td>29</td>\n",
       "      <td>athletic</td>\n",
       "      <td>NaN</td>\n",
       "      <td>socially</td>\n",
       "      <td>never</td>\n",
       "      <td>graduated from college/university</td>\n",
       "      <td>hey how's it going? currently vague on the pro...</td>\n",
       "      <td>work work work work + play</td>\n",
       "      <td>creating imagery to look at:&lt;br /&gt;\\nhttp://bag...</td>\n",
       "      <td>i smile a lot and my inquisitive nature</td>\n",
       "      <td>...</td>\n",
       "      <td>san francisco, california</td>\n",
       "      <td>NaN</td>\n",
       "      <td>straight</td>\n",
       "      <td>likes dogs and likes cats</td>\n",
       "      <td>NaN</td>\n",
       "      <td>m</td>\n",
       "      <td>aquarius</td>\n",
       "      <td>no</td>\n",
       "      <td>english</td>\n",
       "      <td>single</td>\n",
       "    </tr>\n",
       "  </tbody>\n",
       "</table>\n",
       "<p>5 rows × 31 columns</p>\n",
       "</div>"
      ],
      "text/plain": [
       "   age       body_type               diet    drinks      drugs  \\\n",
       "0   22  a little extra  strictly anything  socially      never   \n",
       "1   35         average       mostly other     often  sometimes   \n",
       "2   38            thin           anything  socially        NaN   \n",
       "3   23            thin         vegetarian  socially        NaN   \n",
       "4   29        athletic                NaN  socially      never   \n",
       "\n",
       "                           education  \\\n",
       "0      working on college/university   \n",
       "1              working on space camp   \n",
       "2     graduated from masters program   \n",
       "3      working on college/university   \n",
       "4  graduated from college/university   \n",
       "\n",
       "                                              essay0  \\\n",
       "0  about me:<br />\\n<br />\\ni would love to think...   \n",
       "1  i am a chef: this is what that means.<br />\\n1...   \n",
       "2  i'm not ashamed of much, but writing public te...   \n",
       "3          i work in a library and go to school. . .   \n",
       "4  hey how's it going? currently vague on the pro...   \n",
       "\n",
       "                                              essay1  \\\n",
       "0  currently working as an international agent fo...   \n",
       "1  dedicating everyday to being an unbelievable b...   \n",
       "2  i make nerdy software for musicians, artists, ...   \n",
       "3          reading things written by old dead people   \n",
       "4                         work work work work + play   \n",
       "\n",
       "                                              essay2  \\\n",
       "0  making people laugh.<br />\\nranting about a go...   \n",
       "1  being silly. having ridiculous amonts of fun w...   \n",
       "2  improvising in different contexts. alternating...   \n",
       "3  playing synthesizers and organizing books acco...   \n",
       "4  creating imagery to look at:<br />\\nhttp://bag...   \n",
       "\n",
       "                                              essay3  ...  \\\n",
       "0  the way i look. i am a six foot half asian, ha...  ...   \n",
       "1                                                NaN  ...   \n",
       "2  my large jaw and large glasses are the physica...  ...   \n",
       "3                  socially awkward but i do my best  ...   \n",
       "4            i smile a lot and my inquisitive nature  ...   \n",
       "\n",
       "                          location  \\\n",
       "0  south san francisco, california   \n",
       "1              oakland, california   \n",
       "2        san francisco, california   \n",
       "3             berkeley, california   \n",
       "4        san francisco, california   \n",
       "\n",
       "                                      offspring orientation  \\\n",
       "0  doesn&rsquo;t have kids, but might want them    straight   \n",
       "1  doesn&rsquo;t have kids, but might want them    straight   \n",
       "2                                           NaN    straight   \n",
       "3                       doesn&rsquo;t want kids    straight   \n",
       "4                                           NaN    straight   \n",
       "\n",
       "                        pets                                  religion sex  \\\n",
       "0  likes dogs and likes cats     agnosticism and very serious about it   m   \n",
       "1  likes dogs and likes cats  agnosticism but not too serious about it   m   \n",
       "2                   has cats                                       NaN   m   \n",
       "3                 likes cats                                       NaN   m   \n",
       "4  likes dogs and likes cats                                       NaN   m   \n",
       "\n",
       "                                 sign     smokes  \\\n",
       "0                              gemini  sometimes   \n",
       "1                              cancer         no   \n",
       "2  pisces but it doesn&rsquo;t matter         no   \n",
       "3                              pisces         no   \n",
       "4                            aquarius         no   \n",
       "\n",
       "                                              speaks     status  \n",
       "0                                            english     single  \n",
       "1  english (fluently), spanish (poorly), french (...     single  \n",
       "2                               english, french, c++  available  \n",
       "3                           english, german (poorly)     single  \n",
       "4                                            english     single  \n",
       "\n",
       "[5 rows x 31 columns]"
      ]
     },
     "execution_count": 2,
     "metadata": {},
     "output_type": "execute_result"
    }
   ],
   "source": [
    "df = pd.read_csv(\"profiles.csv\")\n",
    "\n",
    "df.head()"
   ]
  },
  {
   "cell_type": "code",
   "execution_count": 3,
   "metadata": {},
   "outputs": [],
   "source": [
    "#The essays columns were not useful for machine learning modules, so I proceeded to take them out of the dataframe.\n",
    "\n",
    "columns = [c for c in df.columns if c[:5] != 'essay']\n",
    "\n",
    "df = df[columns].reset_index()"
   ]
  },
  {
   "cell_type": "code",
   "execution_count": 4,
   "metadata": {},
   "outputs": [
    {
     "name": "stdout",
     "output_type": "stream",
     "text": [
      "<class 'pandas.core.frame.DataFrame'>\n",
      "RangeIndex: 59946 entries, 0 to 59945\n",
      "Data columns (total 22 columns):\n",
      " #   Column       Non-Null Count  Dtype  \n",
      "---  ------       --------------  -----  \n",
      " 0   index        59946 non-null  int64  \n",
      " 1   age          59946 non-null  int64  \n",
      " 2   body_type    54650 non-null  object \n",
      " 3   diet         35551 non-null  object \n",
      " 4   drinks       56961 non-null  object \n",
      " 5   drugs        45866 non-null  object \n",
      " 6   education    53318 non-null  object \n",
      " 7   ethnicity    54266 non-null  object \n",
      " 8   height       59943 non-null  float64\n",
      " 9   income       59946 non-null  int64  \n",
      " 10  job          51748 non-null  object \n",
      " 11  last_online  59946 non-null  object \n",
      " 12  location     59946 non-null  object \n",
      " 13  offspring    24385 non-null  object \n",
      " 14  orientation  59946 non-null  object \n",
      " 15  pets         40025 non-null  object \n",
      " 16  religion     39720 non-null  object \n",
      " 17  sex          59946 non-null  object \n",
      " 18  sign         48890 non-null  object \n",
      " 19  smokes       54434 non-null  object \n",
      " 20  speaks       59896 non-null  object \n",
      " 21  status       59946 non-null  object \n",
      "dtypes: float64(1), int64(3), object(18)\n",
      "memory usage: 10.1+ MB\n"
     ]
    }
   ],
   "source": [
    "df.info()"
   ]
  },
  {
   "cell_type": "code",
   "execution_count": 5,
   "metadata": {},
   "outputs": [
    {
     "data": {
      "text/plain": [
       "index              0\n",
       "age                0\n",
       "body_type       5296\n",
       "diet           24395\n",
       "drinks          2985\n",
       "drugs          14080\n",
       "education       6628\n",
       "ethnicity       5680\n",
       "height             3\n",
       "income             0\n",
       "job             8198\n",
       "last_online        0\n",
       "location           0\n",
       "offspring      35561\n",
       "orientation        0\n",
       "pets           19921\n",
       "religion       20226\n",
       "sex                0\n",
       "sign           11056\n",
       "smokes          5512\n",
       "speaks            50\n",
       "status             0\n",
       "dtype: int64"
      ]
     },
     "execution_count": 5,
     "metadata": {},
     "output_type": "execute_result"
    }
   ],
   "source": [
    "#It was important to see if the columns had a big amount of null values.\n",
    "\n",
    "df.isna().sum()"
   ]
  },
  {
   "cell_type": "markdown",
   "metadata": {},
   "source": [
    "## Analyzing the dataset\n",
    "\n",
    "There were a lot of categorical columns, and I needed to know if there was a small or large range of answers for a few of them to know what could I do with this information."
   ]
  },
  {
   "cell_type": "code",
   "execution_count": 6,
   "metadata": {},
   "outputs": [
    {
     "data": {
      "text/plain": [
       "single            55697\n",
       "seeing someone     2064\n",
       "available          1865\n",
       "married             310\n",
       "unknown              10\n",
       "Name: status, dtype: int64"
      ]
     },
     "execution_count": 6,
     "metadata": {},
     "output_type": "execute_result"
    }
   ],
   "source": [
    "#What were the status options for the users? As we can see, most of the dataset is single users.\n",
    "df.status.value_counts()"
   ]
  },
  {
   "cell_type": "code",
   "execution_count": 7,
   "metadata": {},
   "outputs": [
    {
     "data": {
      "text/plain": [
       "other                                7589\n",
       "student                              4882\n",
       "science / tech / engineering         4848\n",
       "computer / hardware / software       4709\n",
       "artistic / musical / writer          4439\n",
       "sales / marketing / biz dev          4391\n",
       "medicine / health                    3680\n",
       "education / academia                 3513\n",
       "executive / management               2373\n",
       "banking / financial / real estate    2266\n",
       "entertainment / media                2250\n",
       "law / legal services                 1381\n",
       "hospitality / travel                 1364\n",
       "construction / craftsmanship         1021\n",
       "clerical / administrative             805\n",
       "political / government                708\n",
       "rather not say                        436\n",
       "transportation                        366\n",
       "unemployed                            273\n",
       "retired                               250\n",
       "military                              204\n",
       "Name: job, dtype: int64"
      ]
     },
     "execution_count": 7,
     "metadata": {},
     "output_type": "execute_result"
    }
   ],
   "source": [
    "#What about the jobs? Are there too many categories? Still is a little more balanced\n",
    "df.job.value_counts()"
   ]
  },
  {
   "cell_type": "markdown",
   "metadata": {},
   "source": [
    "I made a few more analysis, but I did not uploaded here. Instead, the columns I used to work with and its distribution are found and showcased at each Machine Learning process. "
   ]
  },
  {
   "cell_type": "markdown",
   "metadata": {},
   "source": [
    "## First question: Can I predict the null values for NaN in drugs?\n",
    "\n",
    "To asume the answer is yes, the Machine Learning model would have needed to have a high score of accuracy to make myself confident.\n",
    "\n",
    "Which model was better to use? Naive Bayes? Linear Regression?"
   ]
  },
  {
   "cell_type": "code",
   "execution_count": 8,
   "metadata": {},
   "outputs": [
    {
     "data": {
      "text/plain": [
       "never        37724\n",
       "sometimes     7732\n",
       "often          410\n",
       "Name: drugs, dtype: int64"
      ]
     },
     "execution_count": 8,
     "metadata": {},
     "output_type": "execute_result"
    }
   ],
   "source": [
    "# How many null values I had at the column of drugs?\n",
    "df.drugs.value_counts()"
   ]
  },
  {
   "cell_type": "code",
   "execution_count": 9,
   "metadata": {},
   "outputs": [],
   "source": [
    "#Then, I made two different datasets: one for users who filled the drug information, and another for users who did not\n",
    "\n",
    "null_in_drugs = df[df['drugs'].isna()]\n",
    "filled_in_drugs = df.dropna(subset = ['drugs'])"
   ]
  },
  {
   "cell_type": "code",
   "execution_count": 10,
   "metadata": {},
   "outputs": [],
   "source": [
    "#The columns selected are for simpler use as an input of the Machine Learning Model.\n",
    "\n",
    "columns_drugs = filled_in_drugs[['age','drinks','smokes','status','body_type','drugs']]\n",
    "columns_drugs = columns_drugs.dropna()"
   ]
  },
  {
   "cell_type": "code",
   "execution_count": 11,
   "metadata": {},
   "outputs": [
    {
     "data": {
      "text/plain": [
       "socially       28004\n",
       "rarely          4732\n",
       "often           3310\n",
       "not at all      2810\n",
       "very often       364\n",
       "desperately      207\n",
       "Name: drinks, dtype: int64"
      ]
     },
     "execution_count": 11,
     "metadata": {},
     "output_type": "execute_result"
    }
   ],
   "source": [
    "#I looked how were the categories of one of the columns selected. As many of them were categorical, I had to turn that\n",
    "#categorical answers into numbers for the model.\n",
    "\n",
    "columns_drugs.drinks.value_counts()"
   ]
  },
  {
   "cell_type": "code",
   "execution_count": 12,
   "metadata": {},
   "outputs": [],
   "source": [
    "columns_drugs['drinks'] = columns_drugs['drinks'].map({'not at all': 0,\n",
    "                                                       'rarely':1, 'socially': 2, 'often': 3,\n",
    "                                                       'very often': 4, 'desperately': 5})"
   ]
  },
  {
   "cell_type": "code",
   "execution_count": 13,
   "metadata": {},
   "outputs": [
    {
     "name": "stdout",
     "output_type": "stream",
     "text": [
      "2    28004\n",
      "1     4732\n",
      "3     3310\n",
      "0     2810\n",
      "4      364\n",
      "5      207\n",
      "Name: drinks, dtype: int64\n"
     ]
    }
   ],
   "source": [
    "print(columns_drugs.drinks.value_counts())"
   ]
  },
  {
   "cell_type": "code",
   "execution_count": 14,
   "metadata": {},
   "outputs": [
    {
     "data": {
      "text/html": [
       "<div>\n",
       "<style scoped>\n",
       "    .dataframe tbody tr th:only-of-type {\n",
       "        vertical-align: middle;\n",
       "    }\n",
       "\n",
       "    .dataframe tbody tr th {\n",
       "        vertical-align: top;\n",
       "    }\n",
       "\n",
       "    .dataframe thead th {\n",
       "        text-align: right;\n",
       "    }\n",
       "</style>\n",
       "<table border=\"1\" class=\"dataframe\">\n",
       "  <thead>\n",
       "    <tr style=\"text-align: right;\">\n",
       "      <th></th>\n",
       "      <th>age</th>\n",
       "      <th>drinks</th>\n",
       "      <th>smokes</th>\n",
       "      <th>status</th>\n",
       "      <th>body_type</th>\n",
       "      <th>drugs</th>\n",
       "    </tr>\n",
       "  </thead>\n",
       "  <tbody>\n",
       "    <tr>\n",
       "      <th>0</th>\n",
       "      <td>22</td>\n",
       "      <td>2</td>\n",
       "      <td>3</td>\n",
       "      <td>0</td>\n",
       "      <td>7</td>\n",
       "      <td>never</td>\n",
       "    </tr>\n",
       "    <tr>\n",
       "      <th>1</th>\n",
       "      <td>35</td>\n",
       "      <td>3</td>\n",
       "      <td>0</td>\n",
       "      <td>0</td>\n",
       "      <td>6</td>\n",
       "      <td>sometimes</td>\n",
       "    </tr>\n",
       "    <tr>\n",
       "      <th>4</th>\n",
       "      <td>29</td>\n",
       "      <td>2</td>\n",
       "      <td>0</td>\n",
       "      <td>0</td>\n",
       "      <td>3</td>\n",
       "      <td>never</td>\n",
       "    </tr>\n",
       "    <tr>\n",
       "      <th>7</th>\n",
       "      <td>31</td>\n",
       "      <td>2</td>\n",
       "      <td>0</td>\n",
       "      <td>0</td>\n",
       "      <td>6</td>\n",
       "      <td>never</td>\n",
       "    </tr>\n",
       "    <tr>\n",
       "      <th>9</th>\n",
       "      <td>37</td>\n",
       "      <td>0</td>\n",
       "      <td>0</td>\n",
       "      <td>0</td>\n",
       "      <td>3</td>\n",
       "      <td>never</td>\n",
       "    </tr>\n",
       "  </tbody>\n",
       "</table>\n",
       "</div>"
      ],
      "text/plain": [
       "   age  drinks  smokes  status  body_type      drugs\n",
       "0   22       2       3       0          7      never\n",
       "1   35       3       0       0          6  sometimes\n",
       "4   29       2       0       0          3      never\n",
       "7   31       2       0       0          6      never\n",
       "9   37       0       0       0          3      never"
      ]
     },
     "execution_count": 14,
     "metadata": {},
     "output_type": "execute_result"
    }
   ],
   "source": [
    "#I did the same with other columns\n",
    "\n",
    "columns_drugs['smokes'] = columns_drugs['smokes'].map({'no': 0,\n",
    "                                                       'trying to quit': 1, 'when drinking': 2,\n",
    "                                                       'sometimes': 3, 'yes': 4})\n",
    "\n",
    "columns_drugs['status'] = columns_drugs['status'].map({'single':0,\n",
    "                                                       'available': 1, 'seeing someone': 2,\n",
    "                                                       'unknown': 3, 'married': 4})\n",
    "\n",
    "# In the status column, 'unknown' was maybe related with a difuse situation, so it was placed just before married\n",
    "\n",
    "columns_drugs['body_type'] = columns_drugs['body_type'].map({'thin':0,'skinny':1,'fit':2,'athletic':3,\n",
    "                                                             'jacked':4,'rather not say':5,'average':6,\n",
    "                                                             'a little extra':7,'used up':8,'curvy':9,'overweight':10,\n",
    "                                                             'full figured':11})\n",
    "\n",
    "#Now, the table looked like this:\n",
    "columns_drugs.head()"
   ]
  },
  {
   "cell_type": "code",
   "execution_count": 15,
   "metadata": {},
   "outputs": [],
   "source": [
    "#Standardize and preprocess the column numbers for the models:\n",
    "\n",
    "train_data_drugs,test_data_drugs, train_labels_drugs, test_labels_drugs = train_test_split(columns_drugs[['age','drinks','smokes','status','body_type']],\n",
    "                                                                   columns_drugs['drugs'],test_size = 0.2, random_state = 100)\n",
    "\n",
    "from sklearn.preprocessing import StandardScaler\n",
    "scaler_drugs = StandardScaler()\n",
    "train_features_drugs = scaler_drugs.fit_transform(train_data_drugs)\n",
    "test_features_drugs = scaler_drugs.transform(test_data_drugs)"
   ]
  },
  {
   "cell_type": "code",
   "execution_count": 16,
   "metadata": {},
   "outputs": [
    {
     "name": "stdout",
     "output_type": "stream",
     "text": [
      "0.829190971341618\n"
     ]
    }
   ],
   "source": [
    "#Now, with the Logistic Regression model, I will see if the machine can predict the test data in a succesful way.\n",
    "\n",
    "from sklearn.linear_model import LogisticRegression\n",
    "model_drugs = LogisticRegression()\n",
    "model_drugs.fit(train_features_drugs,train_labels_drugs)\n",
    "print(model_drugs.score(test_features_drugs, test_labels_drugs))"
   ]
  },
  {
   "cell_type": "markdown",
   "metadata": {},
   "source": [
    "I saw that an 82% accuracy is a really good value. But still I needed to evaluate the model to see which were the outcomes.\n",
    "\n",
    "The first thing to do was to check if each variable had a high impact on the model outcome."
   ]
  },
  {
   "cell_type": "code",
   "execution_count": 17,
   "metadata": {},
   "outputs": [
    {
     "data": {
      "image/png": "[encoded data removed]",
      "text/plain": [
       "<Figure size 720x504 with 1 Axes>"
      ]
     },
     "metadata": {
      "needs_background": "light"
     },
     "output_type": "display_data"
    }
   ],
   "source": [
    "coefficients = model_drugs.coef_\n",
    "coeflist = coefficients.tolist()[0]\n",
    "\n",
    "from matplotlib import pyplot as plt\n",
    "plt.figure(figsize = (10,7))\n",
    "ax = plt.subplot()\n",
    "plt.bar(range(len(coeflist)), coeflist)\n",
    "ax.set_xticks(range(len(coeflist)))\n",
    "ax.set_xticklabels([\"Age\",\"Drinks\",\"Smokes\",\"Status\",\"Body type\"], size = 14)\n",
    "plt.ylabel(\"Correlation\", size = 15)\n",
    "plt.title(\"How these 5 characteristics affects the approach of people to drugs\", size = 15)\n",
    "plt.show()"
   ]
  },
  {
   "cell_type": "markdown",
   "metadata": {},
   "source": [
    "I could see that the 3rd coefficient (smoke) has more impact on this classification. Also, the last ones (status and body type) had almost any effects.\n",
    "\n",
    "So I made an alternative model that did take the body type as a variable."
   ]
  },
  {
   "cell_type": "code",
   "execution_count": 18,
   "metadata": {},
   "outputs": [
    {
     "name": "stdout",
     "output_type": "stream",
     "text": [
      "0.8379406543241187\n"
     ]
    }
   ],
   "source": [
    "columns_drugs_no_body = columns_drugs[['age','drinks','smokes','status','drugs']]\n",
    "\n",
    "train_data_drugs1,test_data_drugs1, train_labels_drugs1, test_labels_drugs1 = train_test_split(columns_drugs_no_body[['age','drinks','smokes','status']],\n",
    "                                                                   columns_drugs['drugs'],test_size = 0.2, random_state = 400)\n",
    "\n",
    "from sklearn.preprocessing import StandardScaler\n",
    "scaler_drugs1 = StandardScaler()\n",
    "train_features_drugs1 = scaler_drugs1.fit_transform(train_data_drugs1)\n",
    "test_features_drugs1 = scaler_drugs1.transform(test_data_drugs1)\n",
    "\n",
    "model_drugs1 = LogisticRegression()\n",
    "model_drugs1.fit(train_features_drugs1,train_labels_drugs1)\n",
    "print(model_drugs1.score(test_features_drugs1, test_labels_drugs1))"
   ]
  },
  {
   "cell_type": "markdown",
   "metadata": {},
   "source": [
    "It was a small progress, but still I could take this model and try to predict the drugs information for the people that had not provided that information."
   ]
  },
  {
   "cell_type": "code",
   "execution_count": 19,
   "metadata": {},
   "outputs": [],
   "source": [
    "null_in_drugs = null_in_drugs.dropna(subset = ['age','drinks','smokes','status'])\n",
    "null_in_drugs['drinks'] = null_in_drugs['drinks'].map({'not at all': 0,\n",
    "                                                       'rarely':1, 'socially': 2, 'often': 3, 'very often': 4,\n",
    "                                                       'desperately': 5})\n",
    "null_in_drugs['smokes'] = null_in_drugs['smokes'].map({'no': 0,\n",
    "                                                       'trying to quit': 1, 'when drinking': 2,\n",
    "                                                       'sometimes': 3, 'yes': 4})\n",
    "null_in_drugs['status'] = null_in_drugs['status'].map({'single':0,\n",
    "                                                       'available': 1, 'seeing someone': 2,\n",
    "                                                       'unknown': 3, 'married': 4})\n",
    "null_in_drugs_columns = null_in_drugs[['age','drinks','smokes','status']]\n",
    "\n",
    "test_features_drugs2 = scaler_drugs1.transform(null_in_drugs_columns)\n",
    "predictions_drugs = model_drugs1.predict(test_features_drugs2)"
   ]
  },
  {
   "cell_type": "markdown",
   "metadata": {},
   "source": [
    "Still, I did not know how many of the drugs information were predicted. That is what I looked for next."
   ]
  },
  {
   "cell_type": "code",
   "execution_count": 20,
   "metadata": {},
   "outputs": [
    {
     "name": "stdout",
     "output_type": "stream",
     "text": [
      "Never do drugs predicted: 10259\n",
      "Sometimes do drugs predicted: 648\n",
      "Often do drugs predicted: 0\n",
      "errors: 0\n"
     ]
    }
   ],
   "source": [
    "never_predicted = 0\n",
    "sometimes_predicted = 0\n",
    "often_predicted = 0\n",
    "error = 0\n",
    "\n",
    "for i in predictions_drugs:\n",
    "    if i == 'never':\n",
    "        never_predicted +=1\n",
    "    elif i == 'sometimes':\n",
    "        sometimes_predicted +=1\n",
    "    elif i == 'often':\n",
    "        often_predicted +=1\n",
    "    else:\n",
    "        error +=1\n",
    "        \n",
    "print(\"Never do drugs predicted: \" + str(never_predicted))\n",
    "print(\"Sometimes do drugs predicted: \" + str(sometimes_predicted))\n",
    "print(\"Often do drugs predicted: \" + str(often_predicted))\n",
    "print(\"errors: \" + str(error))"
   ]
  },
  {
   "cell_type": "markdown",
   "metadata": {},
   "source": [
    "As we saw before, the low amount of users who chose \"often\" to describe its approach to drug usage, was reflected in the Machine Learning Model, which did not return any result of this type. However, it is still a high accuracy model."
   ]
  },
  {
   "cell_type": "markdown",
   "metadata": {},
   "source": [
    "## Second question: Can I predict income values, as there are so many users that did not disclose this information?\n",
    "\n",
    "To asume the answer is yes, the Machine Learning model would have needed to have a high score of accuracy to make myself confident.\n",
    "\n",
    "#Use this columns: body_type, ethnicity, last_online, orientation, age\n",
    "#MODEL: K Nearest Neighbors? Support Vector Machines?"
   ]
  },
  {
   "cell_type": "code",
   "execution_count": 21,
   "metadata": {},
   "outputs": [
    {
     "data": {
      "text/plain": [
       "-1          48442\n",
       " 20000       2952\n",
       " 100000      1621\n",
       " 80000       1111\n",
       " 30000       1048\n",
       " 40000       1005\n",
       " 50000        975\n",
       " 60000        736\n",
       " 70000        707\n",
       " 150000       631\n",
       " 1000000      521\n",
       " 250000       149\n",
       " 500000        48\n",
       "Name: income, dtype: int64"
      ]
     },
     "execution_count": 21,
     "metadata": {},
     "output_type": "execute_result"
    }
   ],
   "source": [
    "#I inspected this information, only to find out that the -1 value (not given by the user) was incredibly high.\n",
    "\n",
    "df.income.value_counts()"
   ]
  },
  {
   "cell_type": "code",
   "execution_count": 22,
   "metadata": {},
   "outputs": [
    {
     "data": {
      "text/plain": [
       "14    2712\n",
       "11     840\n",
       "13     771\n",
       "6      514\n",
       "9      468\n",
       "12     369\n",
       "8      327\n",
       "5      235\n",
       "10     169\n",
       "7      118\n",
       "4       86\n",
       "2       46\n",
       "3       37\n",
       "0       14\n",
       "1       10\n",
       "Name: petsenc, dtype: int64"
      ]
     },
     "execution_count": 22,
     "metadata": {},
     "output_type": "execute_result"
    }
   ],
   "source": [
    "#After creating the two tables, I had to asign categorical answers a numeric value for the machine learning model.\n",
    "\n",
    "income_known = df[df.income != -1]\n",
    "income_not_known = df[df.income == -1]\n",
    "\n",
    "income_known_full = income_known.dropna(subset = ['age','education','job','pets',\n",
    "                                                  'status','drinks','religion','income']).reset_index()\n",
    "\n",
    "from sklearn.preprocessing import LabelEncoder\n",
    "education_encoder = LabelEncoder()\n",
    "job_encoder = LabelEncoder()\n",
    "pets_encoder = LabelEncoder()\n",
    "status_encoder = LabelEncoder()\n",
    "drinks_encoder = LabelEncoder()\n",
    "religion_encoder =LabelEncoder()\n",
    "\n",
    "educcc = education_encoder.fit_transform(income_known_full.education)\n",
    "jobbb = job_encoder.fit_transform(income_known_full.job)\n",
    "petsss = pets_encoder.fit_transform(income_known_full.pets)\n",
    "statusss = status_encoder.fit_transform(income_known_full.status)\n",
    "drinksss = drinks_encoder.fit_transform(income_known_full.drinks)\n",
    "religionnn = religion_encoder.fit_transform(income_known_full.religion)\n",
    "\n",
    "income_known_full['educationenc']=pd.Series(educcc)\n",
    "income_known_full['jobenc']=pd.Series(jobbb)\n",
    "income_known_full['petsenc']=pd.Series(petsss)\n",
    "income_known_full['statusenc']=pd.Series(statusss)\n",
    "income_known_full['drinksenc']=pd.Series(drinksss)\n",
    "income_known_full['religionenc']=pd.Series(religionnn)\n",
    "\n",
    "income_known_full.petsenc.value_counts()"
   ]
  },
  {
   "cell_type": "code",
   "execution_count": 23,
   "metadata": {},
   "outputs": [
    {
     "data": {
      "text/plain": [
       "[0.24553571428571427,\n",
       " 0.2760416666666667,\n",
       " 0.3005952380952381,\n",
       " 0.31026785714285715,\n",
       " 0.28869047619047616,\n",
       " 0.3162202380952381,\n",
       " 0.3117559523809524,\n",
       " 0.3087797619047619,\n",
       " 0.3162202380952381,\n",
       " 0.31398809523809523,\n",
       " 0.31994047619047616,\n",
       " 0.3273809523809524,\n",
       " 0.30505952380952384,\n",
       " 0.3236607142857143,\n",
       " 0.33110119047619047,\n",
       " 0.32514880952380953,\n",
       " 0.3229166666666667,\n",
       " 0.33630952380952384,\n",
       " 0.3132440476190476]"
      ]
     },
     "execution_count": 23,
     "metadata": {},
     "output_type": "execute_result"
    }
   ],
   "source": [
    "train_data_income, test_data_income, train_labels_income, test_labels_income = train_test_split(income_known_full[['age','educationenc','jobenc',\n",
    "                                                                                           'petsenc','statusenc', 'drinksenc',\n",
    "                                                                                           'religionenc']], \n",
    "                                                                        income_known_full[['income']],\n",
    "                                                                        test_size = 0.2, random_state = 100)\n",
    "\n",
    "results = []\n",
    "for k in range(1,20):\n",
    "    classifier = RandomForestClassifier(n_estimators = k)\n",
    "    classifier.fit(train_data_income,train_labels_income.values.ravel())\n",
    "    results.append(classifier.score(test_data_income,test_labels_income))\n",
    "\n",
    "results"
   ]
  },
  {
   "cell_type": "code",
   "execution_count": 24,
   "metadata": {},
   "outputs": [
    {
     "data": {
      "image/png": "[encoded data removed]",
      "text/plain": [
       "<Figure size 720x432 with 1 Axes>"
      ]
     },
     "metadata": {
      "needs_background": "light"
     },
     "output_type": "display_data"
    }
   ],
   "source": [
    "ax = plt.figure(figsize = (10,6))\n",
    "plt.bar(range(1,20), results)\n",
    "plt.show()"
   ]
  },
  {
   "cell_type": "markdown",
   "metadata": {},
   "source": [
    "In this graph, I came to the conclusion that the model was not useful for predictions, as the accuracy is always below 40% no matter how many neighbors we apply to it."
   ]
  },
  {
   "cell_type": "markdown",
   "metadata": {},
   "source": [
    "## Third question: Can I predict the sex of the users based on age and body type?\n",
    "\n",
    "To asume the answer is yes, the Machine Learning model would have needed to have a high score of accuracy to make myself confident.\n",
    "\n",
    "Which model was better to use? K-Neighbors? Naive Bayes? Random Forests?"
   ]
  },
  {
   "cell_type": "code",
   "execution_count": 25,
   "metadata": {},
   "outputs": [
    {
     "data": {
      "text/plain": [
       "m    35829\n",
       "f    24117\n",
       "Name: sex, dtype: int64"
      ]
     },
     "execution_count": 25,
     "metadata": {},
     "output_type": "execute_result"
    }
   ],
   "source": [
    "#The age and body type were already inspected. How about the sex distribution?\n",
    "\n",
    "df.sex.value_counts()"
   ]
  },
  {
   "cell_type": "code",
   "execution_count": 26,
   "metadata": {},
   "outputs": [
    {
     "data": {
      "text/plain": [
       "[0.6535202427032116,\n",
       " 0.6037242389371273,\n",
       " 0.6692122606967256,\n",
       " 0.6471388220525159,\n",
       " 0.6788366983994142,\n",
       " 0.66293545349932,\n",
       " 0.6844858248770792,\n",
       " 0.6728737315618789,\n",
       " 0.6918087666073857,\n",
       " 0.6834396903441783,\n",
       " 0.693168741500157,\n",
       " 0.6849042786902395,\n",
       " 0.6959933047389895,\n",
       " 0.6933779684067372,\n",
       " 0.7007009101370436,\n",
       " 0.6967255989120201,\n",
       " 0.7016424312166545,\n",
       " 0.6974578930850507,\n",
       " 0.7001778428705931]"
      ]
     },
     "execution_count": 26,
     "metadata": {},
     "output_type": "execute_result"
    }
   ],
   "source": [
    "sexdf= df[['age','sex','job','body_type']].reset_index()\n",
    "sexdf['sex'] = sexdf['sex'].map({'f':0,'m':1})\n",
    "sexdf = sexdf.dropna()\n",
    "\n",
    "job_encoder = LabelEncoder()\n",
    "sexdf['job'] = job_encoder.fit_transform(sexdf['job'])\n",
    "sexdf['body_type'] = sexdf['body_type'].map({'thin':0,'skinny':1,'fit':2,'athletic':3,\n",
    "                                                             'jacked':4,'rather not say':5,'average':6,\n",
    "                                                             'a little extra':7,'used up':8,'curvy':9,'overweight':10,\n",
    "                                                             'full figured':11})\n",
    "\n",
    "x_train_sex, x_test_sex, y_train_sex, y_test_sex = train_test_split(sexdf[['age','job','body_type']],sexdf['sex'], test_size = 0.2, random_state = 100)\n",
    "\n",
    "sex_scores = []\n",
    "for i in range(1,20):\n",
    "    smodel = KNeighborsClassifier(n_neighbors = i)\n",
    "    smodel.fit(x_train_sex,y_train_sex)\n",
    "    sex_scores.append(smodel.score(x_test_sex,y_test_sex))\n",
    "sex_scores"
   ]
  },
  {
   "cell_type": "markdown",
   "metadata": {},
   "source": [
    "As it approached to 20 nearest neighbors, the model went up to 70% of accuracy, which was good number to say it was effective.\n",
    "But I tried other models to see if I got a higher level of accuracy.  "
   ]
  },
  {
   "cell_type": "code",
   "execution_count": 27,
   "metadata": {},
   "outputs": [
    {
     "data": {
      "text/plain": [
       "0.6473480489590961"
      ]
     },
     "execution_count": 27,
     "metadata": {},
     "output_type": "execute_result"
    }
   ],
   "source": [
    "smodel1 = MultinomialNB()\n",
    "smodel1.fit(x_train_sex, y_train_sex)\n",
    "smodel1.score(x_test_sex, y_test_sex)"
   ]
  },
  {
   "cell_type": "markdown",
   "metadata": {},
   "source": [
    "The Naive Bayes Classifier had not better results. It were almost 65%. I proceeded to make one more model, with the random forest algorithm."
   ]
  },
  {
   "cell_type": "code",
   "execution_count": 28,
   "metadata": {},
   "outputs": [
    {
     "data": {
      "text/plain": [
       "[0.6915995397008056,\n",
       " 0.6945287163929281,\n",
       " 0.6980855738047913,\n",
       " 0.6993409352442724,\n",
       " 0.7019562715765247,\n",
       " 0.7012239774034941,\n",
       " 0.7008055235903338,\n",
       " 0.6998640025107229,\n",
       " 0.6994455486975625]"
      ]
     },
     "execution_count": 28,
     "metadata": {},
     "output_type": "execute_result"
    }
   ],
   "source": [
    "sresults = []\n",
    "for i in range(1,10):\n",
    "    sclassifier = RandomForestClassifier(n_estimators = i, random_state = 50)\n",
    "    sclassifier.fit(x_train_sex, y_train_sex)\n",
    "    predictions = sclassifier.predict(x_test_sex)\n",
    "    sresults.append(sclassifier.score(x_test_sex,y_test_sex))\n",
    "    \n",
    "sresults"
   ]
  },
  {
   "cell_type": "code",
   "execution_count": 29,
   "metadata": {},
   "outputs": [
    {
     "name": "stdout",
     "output_type": "stream",
     "text": [
      "              precision    recall  f1-score   support\n",
      "\n",
      "           0       0.66      0.48      0.55      3686\n",
      "           1       0.72      0.84      0.78      5873\n",
      "\n",
      "    accuracy                           0.70      9559\n",
      "   macro avg       0.69      0.66      0.66      9559\n",
      "weighted avg       0.70      0.70      0.69      9559\n",
      "\n"
     ]
    }
   ],
   "source": [
    "#Here, we can se the evaluation of this model\n",
    "\n",
    "evalclassifier = RandomForestClassifier(n_estimators = 5, random_state = 50)\n",
    "evalclassifier.fit(x_train_sex, y_train_sex)\n",
    "predictions = evalclassifier.predict(x_test_sex)\n",
    "print(classification_report(y_test_sex, predictions))"
   ]
  },
  {
   "cell_type": "markdown",
   "metadata": {},
   "source": [
    "With 5 decision trees, the random forest throws a 70.19% accuracy, which is by little better than the K-Neighbors classifier."
   ]
  },
  {
   "cell_type": "markdown",
   "metadata": {},
   "source": [
    "## Evaluations and Conclusion"
   ]
  },
  {
   "cell_type": "markdown",
   "metadata": {},
   "source": [
    "All the analysis done led me to the following findings:\n",
    "\n",
    "- An accurate model can be built to predict the drug usage variable for people who did not want to disclose that personal information. However, as almost all of the users did not chose \"often\" to answer, the model did not predict any \"often\" value.\n",
    "- It is not recommended to predict the income of the users with categorical information containing a lot of options, as the model would not have a high level of accuracy.\n",
    "- An accurate model can be built to predict the gender of an user based on their age, body type and job. It reaches 70% of accuracy, and it do not appears to have any major disadvantages."
   ]
  }
 ],
 "metadata": {
  "kernelspec": {
   "display_name": "Python 3",
   "language": "python",
   "name": "python3"
  },
  "language_info": {
   "codemirror_mode": {
    "name": "ipython",
    "version": 3
   },
   "file_extension": ".py",
   "mimetype": "text/x-python",
   "name": "python",
   "nbconvert_exporter": "python",
   "pygments_lexer": "ipython3",
   "version": "3.8.3"
  }
 },
 "nbformat": 4,
 "nbformat_minor": 4
}
